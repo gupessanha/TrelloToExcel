{
 "cells": [
  {
   "cell_type": "markdown",
   "metadata": {},
   "source": [
    "# Testando API do Trello"
   ]
  },
  {
   "cell_type": "code",
   "execution_count": 2,
   "metadata": {},
   "outputs": [],
   "source": [
    "import requests\n",
    "import json\n",
    "import pandas as pd\n"
   ]
  },
  {
   "cell_type": "code",
   "execution_count": null,
   "metadata": {},
   "outputs": [],
   "source": [
    "#Token para teste\n",
    "#token_trello = '8b87e84eab71efca714b5c58277867922cd63a26087236eb3bc5d8db0e82dd28'\n",
    "\n",
    "#Key para teste\n",
    "#key_trello = 'fc23aaf60dd87002c17a29e2fc039d19'\n",
    "\n",
    "#Endpoint para requests\n",
    "#main_trello_endpoint = 'https://api.trello.com/1/'\n"
   ]
  },
  {
   "cell_type": "markdown",
   "metadata": {},
   "source": [
    "## GET Request"
   ]
  },
  {
   "cell_type": "markdown",
   "metadata": {},
   "source": [
    "### Getting jsonObj from board by id"
   ]
  },
  {
   "cell_type": "code",
   "execution_count": null,
   "metadata": {},
   "outputs": [],
   "source": [
    "#def getBoard(id):\n",
    "\n",
    "#    url = main_trello_endpoint+'boards/'+id\n",
    "#    params = {'key': key_trello, 'token': token_trello}\n",
    "#    response = requests.get(url=url, params=params)\n",
    "#    boardData = response.json()\n",
    "#    print(boardData)\n",
    "\n",
    "\n",
    "#getBoard('C65vXFhE')\n"
   ]
  },
  {
   "cell_type": "markdown",
   "metadata": {},
   "source": [
    "## Creating Board Class"
   ]
  },
  {
   "cell_type": "code",
   "execution_count": 12,
   "metadata": {},
   "outputs": [
    {
     "data": {
      "text/plain": [
       "{'CLIENTES': '63652597b7102e0179b82c53',\n",
       " 'Backlog': '63652597b7102e0179b82c54',\n",
       " 'ROTEIRIZANDO/ORGANIZANDO': '63652597b7102e0179b82c55',\n",
       " 'VALIDANDO ROTEIRO': '63652597b7102e0179b82c56',\n",
       " 'AJUSTES ROTEIRO': '63652597b7102e0179b82c57',\n",
       " 'VALIDADO': '63652597b7102e0179b82c58',\n",
       " 'GRAVAR ÁUDIO': '63652597b7102e0179b82c59',\n",
       " 'FILA DE EDIÇÃO': '63652597b7102e0179b82c5a',\n",
       " 'EDITANDO': '63652597b7102e0179b82c5b',\n",
       " 'VALIDANDO (CLIENTE)': '63652597b7102e0179b82c5c',\n",
       " 'AJUSTE VÍDEO ( PÓS VALIDAÇÃO CLIENTE)': '63652597b7102e0179b82c5d',\n",
       " 'PARA LEGENDAR': '63652597b7102e0179b82c5e',\n",
       " 'VALIDANDO LEGENDA (INTERNO)': '63652597b7102e0179b82c5f',\n",
       " 'VALIDANDO LEGENDAGEM (CLIENTE)': '63652597b7102e0179b82c60',\n",
       " 'AJUSTE LEGENDA': '63652597b7102e0179b82c61',\n",
       " 'SCORM': '63652597b7102e0179b82c62',\n",
       " 'VALIDAÇÃO FINAL': '63652597b7102e0179b82c63',\n",
       " 'APROVADO': '63652597b7102e0179b82c64'}"
      ]
     },
     "execution_count": 12,
     "metadata": {},
     "output_type": "execute_result"
    }
   ],
   "source": [
    "class Board:\n",
    "    def __init__(self, key='fc23aaf60dd87002c17a29e2fc039d19', token='8b87e84eab71efca714b5c58277867922cd63a26087236eb3bc5d8db0e82dd28', main_endpoint='https://api.trello.com/1/', boardData = None, boardID = input(), boardLists = None) -> None:\n",
    "        self.key = key\n",
    "        self.token = token\n",
    "        self.main_endpoint = main_endpoint\n",
    "        self.boardId = boardID\n",
    "        self.boardData = boardData\n",
    "        self.boardLists = boardLists\n",
    "    \n",
    "    def get_board(self):\n",
    "        #Pega url base e acrescenta a parte do link faltante nesse caso \"boards\"\n",
    "        url = self.main_endpoint +'boards/'+self.boardId\n",
    "        params = {'key': self.key, 'token': self.token}\n",
    "        response = requests.get(url=url, params=params)\n",
    "        #Salva o jsonObj na variável boardData em forma de dicionário\n",
    "        self.boardData = response.json()\n",
    "        return self.boardData\n",
    "\n",
    "    def get_board_name(self):\n",
    "        #Verifica se as informações já foram puxadas do Trello\n",
    "        if self.boardData == None:\n",
    "            self.get_board()\n",
    "\n",
    "        boardName = self.boardData['name']\n",
    "        return(boardName)\n",
    "\n",
    "    def get_board_id(self):\n",
    "        #Verifica se as informações já foram puxadas do Trello\n",
    "        if self.boardData == None:\n",
    "            self.get_board()\n",
    "\n",
    "        boardIdLocal = self.boardData['id']\n",
    "        print(boardIdLocal)\n",
    "\n",
    "    def get_board_lists(self):\n",
    "        #Acrescenta palavra ao link '/lists' \n",
    "        url = self.main_endpoint +'boards/'+self.boardId+'/lists'\n",
    "        params = {'key': self.key, 'token': self.token}\n",
    "        response = requests.get(url=url, params=params)\n",
    "        self.boardLists = response.json()\n",
    "        \n",
    "        return self.boardLists\n",
    "\n",
    "    def get_board_lists_names_and_idLists(self):\n",
    "        self.get_board_lists()\n",
    "        #Com certeza tem método mais eficiente -----------------------------------------------------------revisitar\n",
    "\n",
    "        #adiciona nomes a lista nameList\n",
    "        numberOfNames = len(self.boardLists)\n",
    "        holder = None\n",
    "        nameList = []  \n",
    "        for i in range(numberOfNames):\n",
    "            holder = dict(self.boardLists[i])\n",
    "            nameList.append(holder['name'])\n",
    "\n",
    "        #adiciona ids a lista idListList\n",
    "        holder = None\n",
    "        idListList = []\n",
    "        for i in range(numberOfNames):\n",
    "            holder = dict(self.boardLists[i])\n",
    "            idListList.append(holder['id'])    \n",
    "        \n",
    "        #concatena nomes e ids no dicionario name_idList\n",
    "        name_idList = dict(zip(nameList, idListList))\n",
    "\n",
    "        return name_idList\n",
    "        \n",
    "    def get_lists_cards(self):\n",
    "        self.get_board_lists_names_and_idLists()\n",
    "\n",
    "        \n",
    "\n",
    "\n",
    "        \n",
    "        \n",
    "\n",
    "\n",
    "\n",
    "teste = Board()\n",
    "#teste.get_board_name()\n",
    "#teste.get_board_id()\n",
    "#teste.get_board()\n",
    "teste.get_board_lists_names_and_idLists()\n"
   ]
  },
  {
   "cell_type": "markdown",
   "metadata": {},
   "source": [
    "# Testando método get_board_list_names()"
   ]
  },
  {
   "cell_type": "code",
   "execution_count": null,
   "metadata": {},
   "outputs": [],
   "source": [
    "# ESTÁ FUNCIONANDO\n",
    "a = [{'id': '63652597b7102e0179b82c53', 'name': 'CLIENTES', 'closed': False, 'idBoard': '63652597b7102e0179b82c4c', 'pos': 255.75, 'subscribed': False, 'softLimit': None}, {'id': '63652597b7102e0179b82c54', 'name': 'Backlog', 'closed': False, 'idBoard': '63652597b7102e0179b82c4c', 'pos': 767.25, 'subscribed': False, 'softLimit': None}, {'id': '63652597b7102e0179b82c55', 'name': 'ROTEIRIZANDO/ORGANIZANDO', 'closed': False, 'idBoard': '63652597b7102e0179b82c4c', 'pos': 953.068359375, 'subscribed': False, 'softLimit': None}, {'id': '63652597b7102e0179b82c56', 'name': 'VALIDANDO ROTEIRO', 'closed': False, 'idBoard': '63652597b7102e0179b82c4c', 'pos': 958.0634765625, 'subscribed': False, 'softLimit': None}, {'id': '63652597b7102e0179b82c57', 'name': 'AJUSTES ROTEIRO', 'closed': False, 'idBoard': '63652597b7102e0179b82c4c', 'pos': 960.56103515625, 'subscribed': False, 'softLimit': None}, {'id': '63652597b7102e0179b82c58', 'name': 'VALIDADO', 'closed': False, 'idBoard': '63652597b7102e0179b82c4c', 'pos': 183071.78051757812, 'subscribed': False, 'softLimit': None}, {'id': '63652597b7102e0179b82c59', 'name': 'GRAVAR ÁUDIO', 'closed': False, 'idBoard': '63652597b7102e0179b82c4c', 'pos': 365183, 'subscribed': False, 'softLimit': None}, {'id': '63652597b7102e0179b82c5a', 'name': 'FILA DE EDIÇÃO', 'closed': False, 'idBoard': '63652597b7102e0179b82c4c', 'pos': 444735, 'subscribed': False, 'softLimit': None}, {'id': '63652597b7102e0179b82c5b', 'name': 'EDITANDO', 'closed': False, 'idBoard': '63652597b7102e0179b82c4c', 'pos': 524287, 'subscribed': False, 'softLimit': None}, {'id': '63652597b7102e0179b82c5c', 'name': 'VALIDANDO (CLIENTE)', 'closed': False, 'idBoard': '63652597b7102e0179b82c4c', 'pos': 655359, 'subscribed': False, 'softLimit': None}, {'id': '63652597b7102e0179b82c5d', 'name': 'AJUSTE VÍDEO ( PÓS VALIDAÇÃO CLIENTE)', 'closed': False, 'idBoard': '63652597b7102e0179b82c4c', 'pos': 688511, 'subscribed': False, 'softLimit': None}, {'id': '63652597b7102e0179b82c5e', 'name': 'PARA LEGENDAR', 'closed': False, 'idBoard': '63652597b7102e0179b82c4c', 'pos': 721663, 'subscribed': False, 'softLimit': None}, {'id': '63652597b7102e0179b82c5f', 'name': 'VALIDANDO LEGENDA (INTERNO)', 'closed': False, 'idBoard': '63652597b7102e0179b82c4c', 'pos': 721828.28125, 'subscribed': False, 'softLimit': None}, {'id': '63652597b7102e0179b82c60', 'name': 'VALIDANDO LEGENDAGEM (CLIENTE)', 'closed': False, 'idBoard': '63652597b7102e0179b82c4c', 'pos': 721993.5625, 'subscribed': False, 'softLimit': None}, {'id': '63652597b7102e0179b82c61', 'name': 'AJUSTE LEGENDA', 'closed': False, 'idBoard': '63652597b7102e0179b82c4c', 'pos': 722029.84375, 'subscribed': False, 'softLimit': None}, {'id': '63652597b7102e0179b82c62', 'name': 'SCORM', 'closed': False, 'idBoard': '63652597b7102e0179b82c4c', 'pos': 722066.125, 'subscribed': False, 'softLimit': None}, {'id': '63652597b7102e0179b82c63', 'name': 'VALIDAÇÃO FINAL', 'closed': False, 'idBoard': '63652597b7102e0179b82c4c', 'pos': 722130.625, 'subscribed': False, 'softLimit': None}, {'id': '63652597b7102e0179b82c64', 'name': 'APROVADO', 'closed': False, 'idBoard': '63652597b7102e0179b82c4c', 'pos': 722179, 'subscribed': False, 'softLimit': None}]\n",
    "\n",
    "numberOfNames = len(a)\n",
    "\n",
    "#b = a[1]\n",
    "b = dict(a[1])\n",
    "print(b)\n",
    "\n",
    "print(b['name'])"
   ]
  }
 ],
 "metadata": {
  "kernelspec": {
   "display_name": "Python 3.9.12 ('base')",
   "language": "python",
   "name": "python3"
  },
  "language_info": {
   "codemirror_mode": {
    "name": "ipython",
    "version": 3
   },
   "file_extension": ".py",
   "mimetype": "text/x-python",
   "name": "python",
   "nbconvert_exporter": "python",
   "pygments_lexer": "ipython3",
   "version": "3.9.12"
  },
  "orig_nbformat": 4,
  "vscode": {
   "interpreter": {
    "hash": "5631f76b16f1dc0b40c393c219f7ed7c256c1f5257753e71fa27d0e745672201"
   }
  }
 },
 "nbformat": 4,
 "nbformat_minor": 2
}
