{
 "cells": [
  {
   "cell_type": "markdown",
   "metadata": {},
   "source": [
    "# Testando API do Trello"
   ]
  },
  {
   "cell_type": "code",
   "execution_count": 1,
   "metadata": {},
   "outputs": [],
   "source": [
    "import requests\n",
    "import json\n",
    "import pandas as pd\n"
   ]
  },
  {
   "cell_type": "code",
   "execution_count": null,
   "metadata": {},
   "outputs": [],
   "source": [
    "#Token para teste\n",
    "#token_trello = '8b87e84eab71efca714b5c58277867922cd63a26087236eb3bc5d8db0e82dd28'\n",
    "\n",
    "#Key para teste\n",
    "#key_trello = 'fc23aaf60dd87002c17a29e2fc039d19'\n",
    "\n",
    "#Endpoint para requests\n",
    "#main_trello_endpoint = 'https://api.trello.com/1/'\n"
   ]
  },
  {
   "cell_type": "markdown",
   "metadata": {},
   "source": [
    "## GET Request"
   ]
  },
  {
   "cell_type": "markdown",
   "metadata": {},
   "source": [
    "### Getting jsonObj from board by id"
   ]
  },
  {
   "cell_type": "code",
   "execution_count": null,
   "metadata": {},
   "outputs": [],
   "source": [
    "#def getBoard(id):\n",
    "\n",
    "#    url = main_trello_endpoint+'boards/'+id\n",
    "#    params = {'key': key_trello, 'token': token_trello}\n",
    "#    response = requests.get(url=url, params=params)\n",
    "#    boardData = response.json()\n",
    "#    print(boardData)\n",
    "\n",
    "\n",
    "#getBoard('C65vXFhE')\n"
   ]
  },
  {
   "cell_type": "markdown",
   "metadata": {},
   "source": [
    "## Creating Board Class"
   ]
  },
  {
   "cell_type": "code",
   "execution_count": 7,
   "metadata": {},
   "outputs": [
    {
     "data": {
      "text/plain": [
       "'63735fafa91e2905e08ca86a'"
      ]
     },
     "execution_count": 7,
     "metadata": {},
     "output_type": "execute_result"
    }
   ],
   "source": [
    "class Board:\n",
    "    def __init__(self, key='fc23aaf60dd87002c17a29e2fc039d19', token='8b87e84eab71efca714b5c58277867922cd63a26087236eb3bc5d8db0e82dd28', main_endpoint='https://api.trello.com/1/', boardData = None, boardID = input(), boardLists = None) -> None:\n",
    "        self.key = key\n",
    "        self.token = token\n",
    "        self.main_endpoint = main_endpoint\n",
    "        self.boardId = boardID\n",
    "        self.boardData = boardData\n",
    "        self.boardLists = boardLists\n",
    "    \n",
    "    def get_board(self):\n",
    "        #Pega url base e acrescenta a parte do link faltante nesse caso \"boards\"\n",
    "        url = self.main_endpoint +'boards/'+self.boardId\n",
    "        params = {'key': self.key, 'token': self.token}\n",
    "        response = requests.get(url=url, params=params)\n",
    "        #Salva o jsonObj na variável boardData em forma de dicionário\n",
    "        self.boardData = response.json()\n",
    "        return self.boardData\n",
    "\n",
    "    def get_board_name(self):\n",
    "        #Verifica se as informações já foram puxadas do Trello\n",
    "        if self.boardData == None:\n",
    "            self.get_board()\n",
    "\n",
    "        boardName = self.boardData['name']\n",
    "        return(boardName)\n",
    "\n",
    "    def get_board_id(self):\n",
    "        #Verifica se as informações já foram puxadas do Trello\n",
    "        if self.boardData == None:\n",
    "            self.get_board()\n",
    "        \n",
    "        #pega o id do quadro\n",
    "        boardIdLocal = self.boardData['id']\n",
    "\n",
    "        return boardIdLocal\n",
    "\n",
    "    def get_board_lists(self):\n",
    "        #Acrescenta palavra ao link '/lists' \n",
    "        url = self.main_endpoint +'boards/'+self.boardId+'/lists'\n",
    "        params = {'key': self.key, 'token': self.token}\n",
    "        response = requests.get(url=url, params=params)\n",
    "        self.boardLists = response.json()\n",
    "        \n",
    "        return self.boardLists\n",
    "\n",
    "    def get_board_lists_names_and_idLists(self):\n",
    "        self.get_board_lists()\n",
    "        #Com certeza tem método mais eficiente -----------------------------------------------------------revisitar\n",
    "\n",
    "        #adiciona nomes a lista nameList\n",
    "        numberOfNames = len(self.boardLists)\n",
    "        holder = None\n",
    "        nameList = []  \n",
    "        for i in range(numberOfNames):\n",
    "            holder = dict(self.boardLists[i])\n",
    "            nameList.append(holder['name'])\n",
    "\n",
    "        #adiciona ids a lista idListList\n",
    "        holder = None\n",
    "        idListList = []\n",
    "        for i in range(numberOfNames):\n",
    "            holder = dict(self.boardLists[i])\n",
    "            idListList.append(holder['id'])    \n",
    "        \n",
    "        #concatena nomes e ids no dicionario name_idList\n",
    "        name_idList = dict(zip(nameList, idListList))\n",
    "\n",
    "        return name_idList\n",
    "        \n",
    "    def get_idCards_on_board(self):\n",
    "        self.get_board_lists_names_and_idLists()\n",
    "        self.get_board_id()\n",
    "        #altera link '/lists' para '/cards'\n",
    "        url = self.main_endpoint +'boards/'+self.boardId+'/cards'\n",
    "        params = {'key': self.key, 'token': self.token}\n",
    "        response = requests.get(url=url, params=params)\n",
    "        cards = response.json()\n",
    "        \n",
    "        #Faz uma lista com todos os ids dos cartoes\n",
    "        numberOfCards = len(cards)\n",
    "        holder = None\n",
    "        cardsOnBoardIds = []\n",
    "        for i in range(numberOfCards):\n",
    "            holder = dict(cards[i])\n",
    "            cardsOnBoardIds.append(holder['id'])  \n",
    "\n",
    "         #Faz uma lista com todos os ids da lista que o cartao esta\n",
    "        numberOfCards = len(cards)\n",
    "        holder = None\n",
    "        cardsOnBoardIdList = []\n",
    "        for i in range(numberOfCards):\n",
    "            holder = dict(cards[i])\n",
    "            cardsOnBoardIdList.append(holder['idList'])\n",
    "        \n",
    "        #dicionario no formato {IdCartoes: IdLista que o cartao esta}\n",
    "        CardsOnBoard_CardsOnBoardIdList = dict(zip(cardsOnBoardIds, cardsOnBoardIdList))\n",
    "\n",
    "        return CardsOnBoard_CardsOnBoardIdList\n",
    "\n",
    "    def get_a_card():\n",
    "        pass\n",
    "\n",
    "    def create_card_on_backlog(self):\n",
    "        lists_and_ids = self.get_board_lists_names_and_idLists()\n",
    "        key_holder = lists_and_ids['Backlog de Vídeos']\n",
    "\n",
    "\n",
    "#board id -> C65vXFhE\n",
    "teste = Board()\n",
    "#teste.get_board_name()\n",
    "#teste.get_board_id()\n",
    "#teste.get_board()\n",
    "#teste.get_board_lists_names_and_idLists()\n",
    "#teste.get_board_id()\n",
    "#teste.get_cards_on_board()\n",
    "#teste.get_board_lists()\n",
    "teste.create_card()\n"
   ]
  },
  {
   "cell_type": "markdown",
   "metadata": {},
   "source": [
    "# Create Card"
   ]
  },
  {
   "cell_type": "code",
   "execution_count": null,
   "metadata": {},
   "outputs": [],
   "source": []
  }
 ],
 "metadata": {
  "kernelspec": {
   "display_name": "Python 3.9.13 ('base')",
   "language": "python",
   "name": "python3"
  },
  "language_info": {
   "codemirror_mode": {
    "name": "ipython",
    "version": 3
   },
   "file_extension": ".py",
   "mimetype": "text/x-python",
   "name": "python",
   "nbconvert_exporter": "python",
   "pygments_lexer": "ipython3",
   "version": "3.9.13"
  },
  "orig_nbformat": 4,
  "vscode": {
   "interpreter": {
    "hash": "e12078d58984062b8bf3bf271e228ec44e4acd61fcb383d43f39bf0bc6de3c06"
   }
  }
 },
 "nbformat": 4,
 "nbformat_minor": 2
}
